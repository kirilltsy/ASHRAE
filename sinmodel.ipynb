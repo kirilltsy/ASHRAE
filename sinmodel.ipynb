{
 "cells": [
  {
   "cell_type": "code",
   "execution_count": 2,
   "metadata": {},
   "outputs": [],
   "source": [
    "import numpy as np\n",
    "import pandas as pd\n",
    "import matplotlib.pyplot as plt"
   ]
  },
  {
   "cell_type": "code",
   "execution_count": 3,
   "metadata": {},
   "outputs": [],
   "source": [
    "\n",
    "\n",
    "root = ''\n",
    "train_df = pd.read_csv(root + 'train.csv')\n",
    "train_df[\"timestamp\"] = pd.to_datetime(train_df[\"timestamp\"], format='%Y-%m-%d %H:%M:%S')\n",
    "\n",
    "weather_train_df = pd.read_csv(root + 'weather_train.csv')\n",
    "test_df = pd.read_csv(root + 'test.csv')\n",
    "test_df[\"hour\"] = pd.to_datetime(test_df[\"timestamp\"], format='%Y-%m-%d %H:%M:%S').dt.hour\n",
    "\n",
    "weather_test_df = pd.read_csv(root + 'weather_test.csv')\n",
    "building_meta_df = pd.read_csv(root + 'building_metadata.csv')\n",
    "sample_submission = pd.read_csv(root + 'sample_submission.csv')"
   ]
  },
  {
   "cell_type": "code",
   "execution_count": 4,
   "metadata": {},
   "outputs": [],
   "source": [
    "def reduce_mem_usage(df, verbose=True):\n",
    "    numerics = ['int16', 'int32', 'int64', 'float16', 'float32', 'float64']\n",
    "    start_mem = df.memory_usage().sum() / 1024**2    \n",
    "    for col in df.columns:\n",
    "        col_type = df[col].dtypes\n",
    "        if col_type in numerics:\n",
    "            c_min = df[col].min()\n",
    "            c_max = df[col].max()\n",
    "            if str(col_type)[:3] == 'int':\n",
    "                if c_min > np.iinfo(np.int8).min and c_max < np.iinfo(np.int8).max:\n",
    "                    df[col] = df[col].astype(np.int8)\n",
    "                elif c_min > np.iinfo(np.int16).min and c_max < np.iinfo(np.int16).max:\n",
    "                    df[col] = df[col].astype(np.int16)\n",
    "                elif c_min > np.iinfo(np.int32).min and c_max < np.iinfo(np.int32).max:\n",
    "                    df[col] = df[col].astype(np.int32)\n",
    "                elif c_min > np.iinfo(np.int64).min and c_max < np.iinfo(np.int64).max:\n",
    "                    df[col] = df[col].astype(np.int64)  \n",
    "            else:\n",
    "                if c_min > np.finfo(np.float16).min and c_max < np.finfo(np.float16).max:\n",
    "                    df[col] = df[col].astype(np.float16)\n",
    "                elif c_min > np.finfo(np.float32).min and c_max < np.finfo(np.float32).max:\n",
    "                    df[col] = df[col].astype(np.float32)\n",
    "                else:\n",
    "                    df[col] = df[col].astype(np.float64)    \n",
    "    end_mem = df.memory_usage().sum() / 1024**2\n",
    "    if verbose: print('Mem. usage decreased to {:5.2f} Mb ({:.1f}% reduction)'.format(end_mem, 100 * (start_mem - end_mem) / start_mem))\n",
    "    return df"
   ]
  },
  {
   "cell_type": "code",
   "execution_count": 5,
   "metadata": {},
   "outputs": [
    {
     "name": "stdout",
     "output_type": "stream",
     "text": [
      "Mem. usage decreased to 289.19 Mb (53.1% reduction)\n",
      "Mem. usage decreased to 636.26 Mb (60.0% reduction)\n",
      "Mem. usage decreased to  3.07 Mb (68.1% reduction)\n",
      "Mem. usage decreased to  6.08 Mb (68.1% reduction)\n",
      "Mem. usage decreased to  0.03 Mb (60.3% reduction)\n"
     ]
    }
   ],
   "source": [
    "train_df = reduce_mem_usage(train_df)\n",
    "test_df = reduce_mem_usage(test_df)\n",
    "\n",
    "weather_train_df = reduce_mem_usage(weather_train_df)\n",
    "weather_test_df = reduce_mem_usage(weather_test_df)\n",
    "building_meta_df = reduce_mem_usage(building_meta_df)"
   ]
  },
  {
   "cell_type": "code",
   "execution_count": 8,
   "metadata": {},
   "outputs": [
    {
     "name": "stdout",
     "output_type": "stream",
     "text": [
      "          building_id  meter           timestamp  meter_reading\n",
      "0                   0      0 2016-01-01 00:00:00       0.000000\n",
      "1                   1      0 2016-01-01 00:00:00       0.000000\n",
      "2                   2      0 2016-01-01 00:00:00       0.000000\n",
      "3                   3      0 2016-01-01 00:00:00       0.000000\n",
      "4                   4      0 2016-01-01 00:00:00       0.000000\n",
      "...               ...    ...                 ...            ...\n",
      "20216095         1444      0 2016-12-31 23:00:00       8.750000\n",
      "20216096         1445      0 2016-12-31 23:00:00       4.825000\n",
      "20216097         1446      0 2016-12-31 23:00:00       0.000000\n",
      "20216098         1447      0 2016-12-31 23:00:00     159.574997\n",
      "20216099         1448      0 2016-12-31 23:00:00       2.850000\n",
      "\n",
      "[20216100 rows x 4 columns]\n"
     ]
    }
   ],
   "source": [
    "print(train_df)"
   ]
  },
  {
   "cell_type": "code",
   "execution_count": 9,
   "metadata": {},
   "outputs": [
    {
     "name": "stdout",
     "output_type": "stream",
     "text": [
      "            row_id  building_id  meter            timestamp  hour\n",
      "0                0            0      0  2017-01-01 00:00:00     0\n",
      "1                1            1      0  2017-01-01 00:00:00     0\n",
      "2                2            2      0  2017-01-01 00:00:00     0\n",
      "3                3            3      0  2017-01-01 00:00:00     0\n",
      "4                4            4      0  2017-01-01 00:00:00     0\n",
      "...            ...          ...    ...                  ...   ...\n",
      "41697595  41697595         1444      0  2018-05-09 07:00:00     7\n",
      "41697596  41697596         1445      0  2018-05-09 07:00:00     7\n",
      "41697597  41697597         1446      0  2018-05-09 07:00:00     7\n",
      "41697598  41697598         1447      0  2018-05-09 07:00:00     7\n",
      "41697599  41697599         1448      0  2018-05-09 07:00:00     7\n",
      "\n",
      "[41697600 rows x 5 columns]\n"
     ]
    }
   ],
   "source": [
    "print(test_df)"
   ]
  },
  {
   "cell_type": "code",
   "execution_count": 10,
   "metadata": {},
   "outputs": [
    {
     "name": "stdout",
     "output_type": "stream",
     "text": [
      "        site_id            timestamp  air_temperature  cloud_coverage  \\\n",
      "0             0  2017-01-01 00:00:00        17.796875             4.0   \n",
      "1             0  2017-01-01 01:00:00        17.796875             2.0   \n",
      "2             0  2017-01-01 02:00:00        16.093750             0.0   \n",
      "3             0  2017-01-01 03:00:00        17.203125             0.0   \n",
      "4             0  2017-01-01 04:00:00        16.703125             2.0   \n",
      "...         ...                  ...              ...             ...   \n",
      "277238       15  2018-12-31 19:00:00         3.300781             NaN   \n",
      "277239       15  2018-12-31 20:00:00         2.800781             NaN   \n",
      "277240       15  2018-12-31 21:00:00         2.800781             NaN   \n",
      "277241       15  2018-12-31 22:00:00         2.800781             NaN   \n",
      "277242       15  2018-12-31 23:00:00         3.300781             NaN   \n",
      "\n",
      "        dew_temperature  precip_depth_1_hr  sea_level_pressure  \\\n",
      "0             11.703125                NaN              1021.5   \n",
      "1             12.796875                0.0              1022.0   \n",
      "2             12.796875                0.0              1022.0   \n",
      "3             13.296875                0.0              1022.0   \n",
      "4             13.296875                0.0              1022.5   \n",
      "...                 ...                ...                 ...   \n",
      "277238         1.700195                NaN              1018.5   \n",
      "277239         1.099609                NaN              1018.0   \n",
      "277240         1.700195               -1.0              1017.0   \n",
      "277241         2.199219                8.0              1016.0   \n",
      "277242         2.199219               20.0              1014.5   \n",
      "\n",
      "        wind_direction  wind_speed  \n",
      "0                100.0    3.599609  \n",
      "1                130.0    3.099609  \n",
      "2                140.0    3.099609  \n",
      "3                140.0    3.099609  \n",
      "4                130.0    2.599609  \n",
      "...                ...         ...  \n",
      "277238           150.0    7.699219  \n",
      "277239           140.0    5.101562  \n",
      "277240           140.0    6.199219  \n",
      "277241           140.0    5.101562  \n",
      "277242           140.0    5.101562  \n",
      "\n",
      "[277243 rows x 9 columns]\n"
     ]
    }
   ],
   "source": [
    "print(weather_test_df)"
   ]
  },
  {
   "cell_type": "code",
   "execution_count": 11,
   "metadata": {},
   "outputs": [
    {
     "name": "stdout",
     "output_type": "stream",
     "text": [
      "      site_id  building_id                    primary_use  square_feet  \\\n",
      "0           0            0                      Education         7432   \n",
      "1           0            1                      Education         2720   \n",
      "2           0            2                      Education         5376   \n",
      "3           0            3                      Education        23685   \n",
      "4           0            4                      Education       116607   \n",
      "...       ...          ...                            ...          ...   \n",
      "1444       15         1444  Entertainment/public assembly        19619   \n",
      "1445       15         1445                      Education         4298   \n",
      "1446       15         1446  Entertainment/public assembly        11265   \n",
      "1447       15         1447            Lodging/residential        29775   \n",
      "1448       15         1448                         Office        92271   \n",
      "\n",
      "      year_built  floor_count  \n",
      "0         2008.0          NaN  \n",
      "1         2004.0          NaN  \n",
      "2         1991.0          NaN  \n",
      "3         2002.0          NaN  \n",
      "4         1975.0          NaN  \n",
      "...          ...          ...  \n",
      "1444      1914.0          NaN  \n",
      "1445         NaN          NaN  \n",
      "1446      1997.0          NaN  \n",
      "1447      2001.0          NaN  \n",
      "1448      2001.0          NaN  \n",
      "\n",
      "[1449 rows x 6 columns]\n"
     ]
    }
   ],
   "source": [
    "print(building_meta_df)"
   ]
  },
  {
   "cell_type": "code",
   "execution_count": 12,
   "metadata": {},
   "outputs": [
    {
     "name": "stdout",
     "output_type": "stream",
     "text": [
      "        site_id            timestamp  air_temperature  cloud_coverage  \\\n",
      "0             0  2016-01-01 00:00:00        25.000000             6.0   \n",
      "1             0  2016-01-01 01:00:00        24.406250             NaN   \n",
      "2             0  2016-01-01 02:00:00        22.796875             2.0   \n",
      "3             0  2016-01-01 03:00:00        21.093750             2.0   \n",
      "4             0  2016-01-01 04:00:00        20.000000             2.0   \n",
      "...         ...                  ...              ...             ...   \n",
      "139768       15  2016-12-31 19:00:00         3.000000             NaN   \n",
      "139769       15  2016-12-31 20:00:00         2.800781             2.0   \n",
      "139770       15  2016-12-31 21:00:00         2.800781             NaN   \n",
      "139771       15  2016-12-31 22:00:00         2.199219             NaN   \n",
      "139772       15  2016-12-31 23:00:00         1.700195             NaN   \n",
      "\n",
      "        dew_temperature  precip_depth_1_hr  sea_level_pressure  \\\n",
      "0             20.000000                NaN              1019.5   \n",
      "1             21.093750               -1.0              1020.0   \n",
      "2             21.093750                0.0              1020.0   \n",
      "3             20.593750                0.0              1020.0   \n",
      "4             20.000000               -1.0              1020.0   \n",
      "...                 ...                ...                 ...   \n",
      "139768        -8.000000                NaN                 NaN   \n",
      "139769        -8.898438                NaN              1007.5   \n",
      "139770        -7.199219                NaN              1007.5   \n",
      "139771        -6.699219                NaN              1008.0   \n",
      "139772        -5.601562               -1.0              1008.5   \n",
      "\n",
      "        wind_direction  wind_speed  \n",
      "0                  0.0    0.000000  \n",
      "1                 70.0    1.500000  \n",
      "2                  0.0    0.000000  \n",
      "3                  0.0    0.000000  \n",
      "4                250.0    2.599609  \n",
      "...                ...         ...  \n",
      "139768           180.0    5.699219  \n",
      "139769           180.0    7.699219  \n",
      "139770           180.0    5.101562  \n",
      "139771           170.0    4.601562  \n",
      "139772           180.0    8.796875  \n",
      "\n",
      "[139773 rows x 9 columns]\n"
     ]
    }
   ],
   "source": [
    "print(weather_train_df)"
   ]
  },
  {
   "cell_type": "code",
   "execution_count": 14,
   "metadata": {},
   "outputs": [],
   "source": [
    "train_building1 = train_df.loc[train_df.building_id == 1]"
   ]
  },
  {
   "cell_type": "code",
   "execution_count": 15,
   "metadata": {},
   "outputs": [],
   "source": [
    "train_build1_meter0 = train_building1.loc[train_building1.meter == 0]"
   ]
  },
  {
   "cell_type": "code",
   "execution_count": 77,
   "metadata": {},
   "outputs": [
    {
     "name": "stdout",
     "output_type": "stream",
     "text": [
      "                   timestamp  meter_reading\n",
      "1        2016-01-01 00:00:00       0.000000\n",
      "2302     2016-01-01 01:00:00       0.000000\n",
      "4595     2016-01-01 02:00:00       0.000000\n",
      "6894     2016-01-01 03:00:00       0.000000\n",
      "9190     2016-01-01 04:00:00       0.000000\n",
      "...                      ...            ...\n",
      "20204275 2016-12-31 19:00:00      68.255997\n",
      "20206638 2016-12-31 20:00:00      52.420601\n",
      "20209004 2016-12-31 21:00:00      53.512699\n",
      "20211369 2016-12-31 22:00:00      54.331799\n",
      "20213735 2016-12-31 23:00:00      51.055500\n",
      "\n",
      "[8784 rows x 2 columns]\n"
     ]
    },
    {
     "data": {
      "image/png": "[encoded data removed]",
      "text/plain": [
       "<Figure size 432x288 with 1 Axes>"
      ]
     },
     "metadata": {
      "needs_background": "light"
     },
     "output_type": "display_data"
    }
   ],
   "source": [
    "plot = train_build1_meter0\n",
    "plot = plot.drop(columns=[\"meter\",\"building_id\"])\n",
    "print(plot)\n",
    "for (i,base) in plot.iterrows():\n",
    "    plot.at[i,\"day\"] = base.timestamp.dayofyear\n",
    "plot = plot.drop(columns=[\"timestamp\",])\n",
    "plot.plot.scatter(\"day\",\"meter_reading\")\n",
    "plt.show()"
   ]
  }
 ],
 "metadata": {
  "kernelspec": {
   "display_name": "Python 3",
   "language": "python",
   "name": "python3"
  },
  "language_info": {
   "codemirror_mode": {
    "name": "ipython",
    "version": 3
   },
   "file_extension": ".py",
   "mimetype": "text/x-python",
   "name": "python",
   "nbconvert_exporter": "python",
   "pygments_lexer": "ipython3",
   "version": "3.7.4"
  }
 },
 "nbformat": 4,
 "nbformat_minor": 2
}
